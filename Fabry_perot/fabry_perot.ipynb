{
 "cells": [
  {
   "cell_type": "markdown",
   "metadata": {},
   "source": [
    "# Fabry Perot Interferometer"
   ]
  },
  {
   "cell_type": "code",
   "execution_count": 11,
   "metadata": {},
   "outputs": [],
   "source": [
    "import numpy as np\n",
    "import matplotlib.pyplot as plt\n",
    "import math\n",
    "from scipy.optimize import curve_fit\n",
    "%matplotlib inline\n",
    "import matplotlib as mpl"
   ]
  },
  {
   "cell_type": "code",
   "execution_count": 12,
   "metadata": {},
   "outputs": [],
   "source": [
    "def eq_12(d, p, c):\n",
    "    \"\"\"\n",
    "    Modified equation 3\n",
    "    \"\"\"\n",
    "    sq_d = p*d + c\n",
    "    return sq_d\n",
    "\n",
    "def eq12_fit(f, x, y):\n",
    "    popt, pcov = curve_fit(f,x,y, bounds=[(-2000,-1000),(2000,1000)],p0=[3,0])\n",
    "    return popt, pcov\n"
   ]
  },
  {
   "cell_type": "code",
   "execution_count": 13,
   "metadata": {},
   "outputs": [
    {
     "name": "stdout",
     "output_type": "stream",
     "text": [
      "(array([1097.81382009, -786.54488032]), array([[ 103.95707318, -311.87122512],\n",
      "       [-311.87122512, 1143.5278574 ]]))\n"
     ]
    }
   ],
   "source": [
    "d = [18.28,36.92,50.24,60.14,68.53]\n",
    "sq_d = np.square(d)\n",
    "sig_d = np.sqrt((np.ones(5)/d)**2*4)*sq_d\n",
    "\n",
    "p = np.arange(1,6)\n",
    "\n",
    "eq12 = eq12_fit(eq_12, p, sq_d)\n",
    "pcov = eq12[1]\n",
    "s = float(\"{:.4g}\".format(eq12[0][0]))\n",
    "ss = float(\"{:.4g}\".format(np.sqrt(np.diag(eq12[1]))[0]))\n",
    "c = float(\"{:.4g}\".format(eq12[0][1]))\n",
    "sc = float(\"{:.4g}\".format(np.sqrt(np.diag(eq12[1]))[1]))\n",
    "print(eq12)"
   ]
  },
  {
   "cell_type": "code",
   "execution_count": 15,
   "metadata": {},
   "outputs": [
    {
     "data": {
      "text/plain": [
       "<Figure size 432x288 with 0 Axes>"
      ]
     },
     "metadata": {},
     "output_type": "display_data"
    },
    {
     "data": {
      "image/png": "[encoded data removed]",
      "text/plain": [
       "<Figure size 432x288 with 1 Axes>"
      ]
     },
     "metadata": {
      "needs_background": "light"
     },
     "output_type": "display_data"
    },
    {
     "data": {
      "text/plain": [
       "<Figure size 6000x12000 with 0 Axes>"
      ]
     },
     "metadata": {},
     "output_type": "display_data"
    }
   ],
   "source": [
    "xp = np.linspace(0.5,5.5,1000)\n",
    "plt.clf()\n",
    "fig, ax = plt.subplots()\n",
    "plt.figure(figsize=(5,10), dpi=1200)\n",
    "ax.set_xlabel(\"p\")\n",
    "ax.set_ylabel(u\"(2r)\\u00b2 mm\\u00b2\")\n",
    "ax.set_title(u\"(2r)\\u00b2 vs p\")\n",
    "ax.scatter(p, sq_d)\n",
    "ax.errorbar(p, sq_d, yerr=sig_d*2, fmt=\"o\", label=\"ring_D_sq\")\n",
    "\n",
    "fit_label = u\"y=({}\\u00B1{})*x+({}\\u00B1{})\".format(s,ss,c,sc)\n",
    "ax.plot(xp, eq_12(xp, eq12[0][0], eq12[0][1]), label=fit_label)\n",
    "ax.legend()\n",
    "ax.grid()\n",
    "fig.savefig(\"finesse.png\", dpi=500)\n"
   ]
  },
  {
   "cell_type": "code",
   "execution_count": null,
   "metadata": {},
   "outputs": [],
   "source": []
  }
 ],
 "metadata": {
  "interpreter": {
   "hash": "28e645461d8a7ad3cdd7c6ba1e94991dadc517d90c273ff522d251f0ece4da68"
  },
  "kernelspec": {
   "display_name": "Python 3.8.8 64-bit ('base': conda)",
   "language": "python",
   "name": "python3"
  },
  "language_info": {
   "codemirror_mode": {
    "name": "ipython",
    "version": 3
   },
   "file_extension": ".py",
   "mimetype": "text/x-python",
   "name": "python",
   "nbconvert_exporter": "python",
   "pygments_lexer": "ipython3",
   "version": "3.8.12"
  },
  "orig_nbformat": 4
 },
 "nbformat": 4,
 "nbformat_minor": 2
}
