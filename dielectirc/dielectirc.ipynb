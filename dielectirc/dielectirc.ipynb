{
 "cells": [
  {
   "cell_type": "markdown",
   "metadata": {},
   "source": [
    "# Phys 311 dielectric interface lab report"
   ]
  },
  {
   "cell_type": "markdown",
   "metadata": {},
   "source": [
    "Here is the python package I used for this lab report:"
   ]
  },
  {
   "cell_type": "code",
   "execution_count": 71,
   "metadata": {},
   "outputs": [
    {
     "data": {
      "text/plain": [
       "'C:\\\\Users\\\\alber\\\\.matplotlib'"
      ]
     },
     "execution_count": 71,
     "metadata": {},
     "output_type": "execute_result"
    }
   ],
   "source": [
    "import pandas as pd\n",
    "import numpy as np\n",
    "import matplotlib.pyplot as plt\n",
    "import math\n",
    "from scipy.optimize import curve_fit\n",
    "%matplotlib inline\n",
    "import matplotlib as mpl\n",
    "mpl.get_cachedir()"
   ]
  },
  {
   "cell_type": "markdown",
   "metadata": {},
   "source": [
    "1. Calucalte the angle of incidence $\\theta$ = 180 $^\\circ$ - $\\beta$ /2"
   ]
  },
  {
   "cell_type": "code",
   "execution_count": 72,
   "metadata": {},
   "outputs": [
    {
     "name": "stdout",
     "output_type": "stream",
     "text": [
      "0     20.0\n",
      "1     25.0\n",
      "2     30.0\n",
      "3     35.0\n",
      "4     40.0\n",
      "5     45.0\n",
      "6     50.0\n",
      "7     55.0\n",
      "8     60.0\n",
      "9     65.0\n",
      "10    70.0\n",
      "11    75.0\n",
      "12    80.0\n",
      "13    90.0\n",
      "Name: theta, dtype: float64\n"
     ]
    }
   ],
   "source": [
    "df = pd.read_csv('Dielectirc_interface.csv')\n",
    "df[\"theta\"] = 180 - df[\"deg\"] / 2\n",
    "print(df[\"theta\"])\n"
   ]
  },
  {
   "cell_type": "markdown",
   "metadata": {},
   "source": [
    "2. Divide each measurement by its reference measurement. Answers are unitless."
   ]
  },
  {
   "cell_type": "code",
   "execution_count": 73,
   "metadata": {},
   "outputs": [],
   "source": [
    "for col in df:\n",
    "    if col[2] == \"i\":\n",
    "        df[\"{}{}\".format(col[0:2],\"_rf_ratio\")] = df[\"{}{}\".format(col[0:2],\"o\")]/df[col]\n",
    "df1 = df.iloc[:,9:] "
   ]
  },
  {
   "cell_type": "markdown",
   "metadata": {},
   "source": [
    "3. Divide the each point with reference 90 $^\\circ$ measurement. normalized reflectance at each angle to its value at 90 $^\\circ$"
   ]
  },
  {
   "cell_type": "code",
   "execution_count": 74,
   "metadata": {},
   "outputs": [],
   "source": [
    "for col in df1:\n",
    "    if col[-1] == \"o\":\n",
    "        new_col = \"{}{}\".format(col[0:2],\"_nor_rf\")\n",
    "        df1[new_col] = df1[col].divide(df1.iloc[-1][col])\n",
    "df2 = df1.iloc[:,5:]\n",
    "        "
   ]
  },
  {
   "cell_type": "markdown",
   "metadata": {},
   "source": [
    "4. Ploting of reflectance against the angle."
   ]
  },
  {
   "cell_type": "code",
   "execution_count": 81,
   "metadata": {},
   "outputs": [
    {
     "name": "stdout",
     "output_type": "stream",
     "text": [
      "    theta  ru_rf_ratio  rd_rf_ratio  gu_rf_ratio  gd_rf_ratio  ru_nor_rf  \\\n",
      "0    20.0     0.005687     0.008347     0.006543     0.009524   0.034662   \n",
      "1    25.0     0.005052     0.009189     0.005875     0.010476   0.030789   \n",
      "2    30.0     0.004301     0.010161     0.005125     0.011667   0.026210   \n",
      "3    35.0     0.003438     0.011657     0.004000     0.013333   0.020950   \n",
      "4    40.0     0.002495     0.013686     0.003000     0.015476   0.015204   \n",
      "5    45.0     0.001492     0.016414     0.001772     0.018675   0.009090   \n",
      "6    50.0     0.000633     0.019655     0.000886     0.021687   0.003857   \n",
      "7    55.0     0.000064     0.024056     0.000127     0.027831   0.000387   \n",
      "8    60.0     0.000297     0.031111     0.000380     0.035610   0.001808   \n",
      "9    65.0     0.002076     0.040123     0.002532     0.045732   0.012654   \n",
      "10   70.0     0.006872     0.052156     0.007949     0.059634   0.041883   \n",
      "\n",
      "    rd_nor_rf  gu_nor_rf  gd_nor_rf  \n",
      "0    0.019979   0.043464   0.060882  \n",
      "1    0.021994   0.039026   0.066970  \n",
      "2    0.024320   0.034044   0.074581  \n",
      "3    0.027901   0.026571   0.085235  \n",
      "4    0.032759   0.019928   0.098934  \n",
      "5    0.039288   0.011772   0.119381  \n",
      "6    0.047046   0.005886   0.138636  \n",
      "7    0.057580   0.000841   0.177916  \n",
      "8    0.074466   0.002523   0.227640  \n",
      "9    0.096038   0.016817   0.292346  \n",
      "10   0.124839   0.052801   0.381220  \n"
     ]
    },
    {
     "data": {
      "text/plain": [
       "<Figure size 432x288 with 0 Axes>"
      ]
     },
     "metadata": {},
     "output_type": "display_data"
    },
    {
     "data": {
      "image/png": "[encoded data removed]",
      "text/plain": [
       "<Figure size 432x288 with 4 Axes>"
      ]
     },
     "metadata": {
      "needs_background": "light"
     },
     "output_type": "display_data"
    },
    {
     "data": {
      "text/plain": [
       "<Figure size 12000x6000 with 0 Axes>"
      ]
     },
     "metadata": {},
     "output_type": "display_data"
    }
   ],
   "source": [
    "df3 = df1.iloc[:-3] # eliminate 90 degree data set\n",
    "print(df3)\n",
    "plt.clf()\n",
    "csfont = {'fontname':'Comic Sans MS'}\n",
    "# set up ploting figure\n",
    "fig, axs = plt.subplots(2, 2)\n",
    "plt.figure(figsize=(10,5), dpi=1200)\n",
    "fig.suptitle(\"Reflectance VS Angle of Incidence\", **csfont)\n",
    "fig.text(0.5, 0.01, 'Incidence Angle($^\\circ$)', ha='center')\n",
    "fig.text(0.001, 0.5, 'Refletance', va='center', rotation='vertical')\n",
    "\n",
    "axs[0,0].scatter(df3[\"theta\"], df3[\"ru_nor_rf\"])\n",
    "axs[0,0].set_title(\"Red_Up\")\n",
    "axs[0,1].scatter(df3[\"theta\"], df3[\"rd_nor_rf\"])\n",
    "axs[0,1].set_title(\"Red_Down\")\n",
    "axs[1,0].scatter(df3[\"theta\"], df3[\"gu_nor_rf\"])\n",
    "axs[1,0].set_title(\"Green_Up\")\n",
    "axs[1,1].scatter(df3[\"theta\"], df3[\"gd_nor_rf\"])\n",
    "axs[1,1].set_title(\"Green_Down\")\n",
    "axs[0,0].grid()\n",
    "axs[0,1].grid()\n",
    "axs[1,0].grid()\n",
    "axs[1,1].grid()\n",
    "fig.tight_layout()\n",
    "\n",
    "\n",
    "fig.savefig('ref_ang.jpg', bbox_inches = 'tight', dpi=1000)"
   ]
  },
  {
   "cell_type": "markdown",
   "metadata": {},
   "source": [
    "5. Find fiting fresnel equation"
   ]
  },
  {
   "cell_type": "code",
   "execution_count": 76,
   "metadata": {},
   "outputs": [],
   "source": [
    "def fresnel_pd_equ(th, n, mul, c):\n",
    "    \"\"\"\n",
    "    Fresnel equation for perpendicular polarization, with input of th for incident angle theta,\n",
    "    n for index of reflectance, mul for multiplyer, c for constant to add to the function.\n",
    "    \"\"\"\n",
    "    num = np.cos(th) - np.sqrt(n**2 - np.sin(th)**2)\n",
    "    den = np.cos(th) + np.sqrt(n**2 - np.sin(th)**2)\n",
    "    return((num/den)**2)*mul + c\n",
    "\n",
    "def fresnel_pl_equ(th, n, mul, c):\n",
    "    \"\"\"\n",
    "    Fresnel equation for parallel polarization, with input of th for incident angle theta,\n",
    "    n for index of reflectance, mul for multiplyer, c for constant to add to the function.\n",
    "    \"\"\"\n",
    "    num = np.cos(th)*n**2 - np.sqrt(n**2 - np.sin(th)**2)\n",
    "    den = np.cos(th)*n**2 + np.sqrt(n**2 - np.sin(th)**2)\n",
    "    return((num/den)**2)*mul + c\n",
    "\n",
    "def fit(f,x,y):\n",
    "    popt, pcov = curve_fit(f,x,y, bounds=[(1,0,-0.1),(1.7,2,0.1)],p0=[1,1,0])\n",
    "    return popt, pcov\n"
   ]
  },
  {
   "cell_type": "code",
   "execution_count": 77,
   "metadata": {},
   "outputs": [
    {
     "name": "stdout",
     "output_type": "stream",
     "text": [
      "parameter=[1.51136580e+00 1.23716660e+00 9.25202395e-04]\n",
      "std=[0.00215339 0.01047791 0.00022835]\n"
     ]
    }
   ],
   "source": [
    "# convert theta in degree to radian\n",
    "x = []\n",
    "for a in df3[\"theta\"]:\n",
    "    x.append(math.radians(a))\n",
    "ru_y = df3[\"ru_nor_rf\"].to_numpy()\n",
    "rd_y = df3[\"rd_nor_rf\"].to_numpy()\n",
    "gu_y = df3[\"gu_nor_rf\"].to_numpy()\n",
    "gd_y = df3[\"gd_nor_rf\"].to_numpy()\n",
    "\n",
    "ru_fit = fit(fresnel_pl_equ, x, gu_y)\n",
    "print(\"parameter={}\".format(ru_fit[0]))\n",
    "print(\"std={}\".format(np.sqrt(np.diag(ru_fit[1]))))"
   ]
  },
  {
   "cell_type": "markdown",
   "metadata": {},
   "source": [
    "6. plot fitted fresnel equation with data."
   ]
  },
  {
   "cell_type": "code",
   "execution_count": 78,
   "metadata": {},
   "outputs": [
    {
     "ename": "TypeError",
     "evalue": "fresnel_pl_equ() missing 4 required positional arguments: 'th', 'n', 'mul', and 'c'",
     "output_type": "error",
     "traceback": [
      "\u001b[1;31m---------------------------------------------------------------------------\u001b[0m",
      "\u001b[1;31mTypeError\u001b[0m                                 Traceback (most recent call last)",
      "\u001b[1;32m~\\AppData\\Local\\Temp/ipykernel_24432/1334709251.py\u001b[0m in \u001b[0;36m<module>\u001b[1;34m\u001b[0m\n\u001b[1;32m----> 1\u001b[1;33m \u001b[0mru_fit\u001b[0m \u001b[1;33m=\u001b[0m \u001b[0mfresnel_pl_equ\u001b[0m\u001b[1;33m(\u001b[0m\u001b[1;33m)\u001b[0m\u001b[1;33m\u001b[0m\u001b[1;33m\u001b[0m\u001b[0m\n\u001b[0m",
      "\u001b[1;31mTypeError\u001b[0m: fresnel_pl_equ() missing 4 required positional arguments: 'th', 'n', 'mul', and 'c'"
     ]
    }
   ],
   "source": [
    "ru_fit = fresnel_pl_equ()"
   ]
  }
 ],
 "metadata": {
  "interpreter": {
   "hash": "28e645461d8a7ad3cdd7c6ba1e94991dadc517d90c273ff522d251f0ece4da68"
  },
  "kernelspec": {
   "display_name": "Python 3.8.8 64-bit ('base': conda)",
   "name": "python3"
  },
  "language_info": {
   "codemirror_mode": {
    "name": "ipython",
    "version": 3
   },
   "file_extension": ".py",
   "mimetype": "text/x-python",
   "name": "python",
   "nbconvert_exporter": "python",
   "pygments_lexer": "ipython3",
   "version": "3.8.8"
  },
  "orig_nbformat": 4
 },
 "nbformat": 4,
 "nbformat_minor": 2
}
