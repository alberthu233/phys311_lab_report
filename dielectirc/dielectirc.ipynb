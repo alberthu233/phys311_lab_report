{
 "cells": [
  {
   "cell_type": "markdown",
   "metadata": {},
   "source": [
    "# Phys 311 dielectric interface lab report"
   ]
  },
  {
   "cell_type": "markdown",
   "metadata": {},
   "source": [
    "Here is the python package I used for this lab report:"
   ]
  },
  {
   "cell_type": "code",
   "execution_count": 13,
   "metadata": {},
   "outputs": [
    {
     "data": {
      "text/plain": [
       "'C:\\\\Users\\\\alber\\\\.matplotlib'"
      ]
     },
     "execution_count": 13,
     "metadata": {},
     "output_type": "execute_result"
    }
   ],
   "source": [
    "import pandas as pd\n",
    "import numpy as np\n",
    "import matplotlib.pyplot as plt\n",
    "import math\n",
    "from scipy.optimize import curve_fit\n",
    "%matplotlib inline\n",
    "import matplotlib as mpl\n",
    "mpl.get_cachedir()"
   ]
  },
  {
   "cell_type": "markdown",
   "metadata": {},
   "source": [
    "1. Calucalte the angle of incidence $\\theta$ = 180 $^\\circ$ - $\\beta$ /2"
   ]
  },
  {
   "cell_type": "code",
   "execution_count": 14,
   "metadata": {},
   "outputs": [
    {
     "name": "stdout",
     "output_type": "stream",
     "text": [
      "    deg     rui    ruo     rdi     rdo    gui    guo    gdi    gdo  theta\n",
      "0   320  481.00   2.73  496.00    4.14  81.00   0.53  84.00   0.80   20.0\n",
      "1   310  481.00   2.43  494.00    4.53  80.67   0.48  84.00   0.88   25.0\n",
      "2   300  479.00   2.06  497.67    5.06  80.33   0.41  84.00   0.98   30.0\n",
      "3   290  480.67   1.65  495.00    5.77  80.00   0.33  84.00   1.12   35.0\n",
      "4   280  477.00   1.19  495.00    6.72  80.00   0.24  83.67   1.30   40.0\n",
      "5   270  476.00   0.71  488.00    8.01  79.00   0.14  83.00   1.55   45.0\n",
      "6   260  474.00   0.30  493.00    9.69  79.67   0.07  83.00   1.85   50.0\n",
      "7   250  473.00   0.03  491.33   11.98  79.00   0.01  83.00   2.31   55.0\n",
      "8   240  471.67   0.14  486.67   15.12  78.67   0.03  82.67   2.92   60.0\n",
      "9   230  472.00   0.98  486.67   19.50  78.33   0.20  82.00   3.75   65.0\n",
      "10  220  470.00   3.23  487.00   25.40  78.00   0.62  81.67   4.89   70.0\n",
      "11  210  471.67   8.15  483.00   33.74  78.00   1.57  81.67   6.48   75.0\n",
      "12  200  469.00  18.20  484.67   45.37  78.00   3.49  81.33   8.70   80.0\n",
      "13  180  483.50  78.83  501.50  192.60  81.00  15.11  85.00  16.32   90.0\n"
     ]
    }
   ],
   "source": [
    "df = pd.read_csv('Dielectirc_interface.csv')\n",
    "df[\"theta\"] = 180 - df[\"deg\"] / 2\n",
    "print(df)\n"
   ]
  },
  {
   "cell_type": "markdown",
   "metadata": {},
   "source": [
    "2. Divide each measurement by its reference measurement. Answers are unitless."
   ]
  },
  {
   "cell_type": "code",
   "execution_count": 15,
   "metadata": {},
   "outputs": [
    {
     "name": "stdout",
     "output_type": "stream",
     "text": [
      "    theta  ru_rf_ratio  rd_rf_ratio  gu_rf_ratio  gd_rf_ratio\n",
      "0    20.0     0.005676     0.008347     0.006543     0.009524\n",
      "1    25.0     0.005052     0.009170     0.005950     0.010476\n",
      "2    30.0     0.004301     0.010167     0.005104     0.011667\n",
      "3    35.0     0.003433     0.011657     0.004125     0.013333\n",
      "4    40.0     0.002495     0.013576     0.003000     0.015537\n",
      "5    45.0     0.001492     0.016414     0.001772     0.018675\n",
      "6    50.0     0.000633     0.019655     0.000879     0.022289\n",
      "7    55.0     0.000063     0.024383     0.000127     0.027831\n",
      "8    60.0     0.000297     0.031068     0.000381     0.035321\n",
      "9    65.0     0.002076     0.040068     0.002553     0.045732\n",
      "10   70.0     0.006872     0.052156     0.007949     0.059875\n",
      "11   75.0     0.017279     0.069855     0.020128     0.079344\n",
      "12   80.0     0.038806     0.093610     0.044744     0.106972\n",
      "13   90.0     0.163040     0.384048     0.186543     0.192000\n"
     ]
    }
   ],
   "source": [
    "for col in df:\n",
    "    if col[2] == \"i\":\n",
    "        df[\"{}{}\".format(col[0:2],\"_rf_ratio\")] = df[\"{}{}\".format(col[0:2],\"o\")]/df[col]\n",
    "df1 = df.iloc[:,9:]\n",
    "print(df1)"
   ]
  },
  {
   "cell_type": "markdown",
   "metadata": {},
   "source": [
    "3. Divide the each point with reference 90 $^\\circ$ measurement. normalized reflectance at each angle to its value at 90 $^\\circ$"
   ]
  },
  {
   "cell_type": "code",
   "execution_count": 16,
   "metadata": {},
   "outputs": [
    {
     "name": "stdout",
     "output_type": "stream",
     "text": [
      "    ru_nor_rf  rd_nor_rf  gu_nor_rf  gd_nor_rf\n",
      "0    0.034811   0.021734   0.035076   0.049603\n",
      "1    0.030986   0.023877   0.031897   0.054563\n",
      "2    0.026378   0.026474   0.027361   0.060764\n",
      "3    0.021054   0.030352   0.022113   0.069444\n",
      "4    0.015301   0.035349   0.016082   0.080923\n",
      "5    0.009149   0.042739   0.009500   0.097264\n",
      "6    0.003882   0.051179   0.004710   0.116089\n",
      "7    0.000389   0.063489   0.000679   0.144955\n",
      "8    0.001821   0.080897   0.002044   0.183964\n",
      "9    0.012735   0.104331   0.013687   0.238186\n",
      "10   0.042151   0.135806   0.042611   0.311850\n",
      "11   0.105980   0.181892   0.107901   0.413248\n",
      "12   0.238015   0.243746   0.239856   0.557144\n",
      "13   1.000000   1.000000   1.000000   1.000000\n"
     ]
    }
   ],
   "source": [
    "for col in df1:\n",
    "    if col[-1] == \"o\":\n",
    "        new_col = \"{}{}\".format(col[0:2],\"_nor_rf\")\n",
    "        df1[new_col] = df1[col].divide(df1.iloc[-1][col])\n",
    "df2 = df1.iloc[:,5:]\n",
    "print(df2) # normalized measuremnt"
   ]
  },
  {
   "cell_type": "markdown",
   "metadata": {},
   "source": [
    "4. Ploting of reflectance against the angle."
   ]
  },
  {
   "cell_type": "code",
   "execution_count": 25,
   "metadata": {},
   "outputs": [
    {
     "name": "stdout",
     "output_type": "stream",
     "text": [
      "    theta  ru_rf_ratio  rd_rf_ratio  gu_rf_ratio  gd_rf_ratio  ru_nor_rf  \\\n",
      "0    20.0     0.005676     0.008347     0.006543     0.009524   0.034811   \n",
      "1    25.0     0.005052     0.009170     0.005950     0.010476   0.030986   \n",
      "2    30.0     0.004301     0.010167     0.005104     0.011667   0.026378   \n",
      "3    35.0     0.003433     0.011657     0.004125     0.013333   0.021054   \n",
      "4    40.0     0.002495     0.013576     0.003000     0.015537   0.015301   \n",
      "5    45.0     0.001492     0.016414     0.001772     0.018675   0.009149   \n",
      "6    50.0     0.000633     0.019655     0.000879     0.022289   0.003882   \n",
      "7    55.0     0.000063     0.024383     0.000127     0.027831   0.000389   \n",
      "8    60.0     0.000297     0.031068     0.000381     0.035321   0.001821   \n",
      "9    65.0     0.002076     0.040068     0.002553     0.045732   0.012735   \n",
      "10   70.0     0.006872     0.052156     0.007949     0.059875   0.042151   \n",
      "11   75.0     0.017279     0.069855     0.020128     0.079344   0.105980   \n",
      "12   80.0     0.038806     0.093610     0.044744     0.106972   0.238015   \n",
      "\n",
      "    rd_nor_rf  gu_nor_rf  gd_nor_rf  \n",
      "0    0.021734   0.035076   0.049603  \n",
      "1    0.023877   0.031897   0.054563  \n",
      "2    0.026474   0.027361   0.060764  \n",
      "3    0.030352   0.022113   0.069444  \n",
      "4    0.035349   0.016082   0.080923  \n",
      "5    0.042739   0.009500   0.097264  \n",
      "6    0.051179   0.004710   0.116089  \n",
      "7    0.063489   0.000679   0.144955  \n",
      "8    0.080897   0.002044   0.183964  \n",
      "9    0.104331   0.013687   0.238186  \n",
      "10   0.135806   0.042611   0.311850  \n",
      "11   0.181892   0.107901   0.413248  \n",
      "12   0.243746   0.239856   0.557144  \n"
     ]
    },
    {
     "data": {
      "text/plain": [
       "<Figure size 432x288 with 0 Axes>"
      ]
     },
     "metadata": {},
     "output_type": "display_data"
    },
    {
     "data": {
      "image/png": "[encoded data removed]",
      "text/plain": [
       "<Figure size 432x288 with 4 Axes>"
      ]
     },
     "metadata": {
      "needs_background": "light"
     },
     "output_type": "display_data"
    },
    {
     "data": {
      "text/plain": [
       "<Figure size 12000x6000 with 0 Axes>"
      ]
     },
     "metadata": {},
     "output_type": "display_data"
    }
   ],
   "source": [
    "df3 = df1.iloc[:-1] # eliminate 90 degree data set\n",
    "print(df3)\n",
    "df3.to_csv(\"calculated_data.csv\")\n",
    "plt.clf()\n",
    "csfont = {'fontname':'Comic Sans MS'}\n",
    "# set up ploting figure\n",
    "fig, axs = plt.subplots(2, 2)\n",
    "plt.figure(figsize=(10,5), dpi=1200)\n",
    "fig.suptitle(\"Reflectance VS Angle of Incidence\", **csfont)\n",
    "fig.text(0.5, 0.01, 'Incidence Angle($^\\circ$)', ha='center')\n",
    "fig.text(0.001, 0.5, 'Refletance', va='center', rotation='vertical')\n",
    "\n",
    "axs[0,0].scatter(df3[\"theta\"], df3[\"ru_nor_rf\"])\n",
    "axs[0,0].set_title(\"Red_Up\")\n",
    "axs[0,1].scatter(df3[\"theta\"], df3[\"rd_nor_rf\"])\n",
    "axs[0,1].set_title(\"Red_Down\")\n",
    "axs[1,0].scatter(df3[\"theta\"], df3[\"gu_nor_rf\"])\n",
    "axs[1,0].set_title(\"Green_Up\")\n",
    "axs[1,1].scatter(df3[\"theta\"], df3[\"gd_nor_rf\"])\n",
    "axs[1,1].set_title(\"Green_Down\")\n",
    "axs[0,0].grid()\n",
    "axs[0,1].grid()\n",
    "axs[1,0].grid()\n",
    "axs[1,1].grid()\n",
    "fig.tight_layout()\n",
    "\n",
    "\n",
    "fig.savefig('ref_ang.jpg', bbox_inches = 'tight', dpi=1000)"
   ]
  },
  {
   "cell_type": "markdown",
   "metadata": {},
   "source": [
    "5. Find fiting fresnel equation"
   ]
  },
  {
   "cell_type": "code",
   "execution_count": 18,
   "metadata": {},
   "outputs": [],
   "source": [
    "def fresnel_pd_equ(th, n, mul, c):\n",
    "    \"\"\"\n",
    "    Fresnel equation for perpendicular polarization, with input of th for incident angle theta,\n",
    "    n for index of reflectance, mul for multiplyer, c for constant to add to the function.\n",
    "    \"\"\"\n",
    "    num = np.cos(th) - np.sqrt(n**2 - np.sin(th)**2)\n",
    "    den = np.cos(th) + np.sqrt(n**2 - np.sin(th)**2)\n",
    "    return((num/den)**2)*mul + c\n",
    "\n",
    "def fresnel_pl_equ(th, n, mul, c):\n",
    "    \"\"\"\n",
    "    Fresnel equation for parallel polarization, with input of th for incident angle theta,\n",
    "    n for index of reflectance, mul for multiplyer, c for constant to add to the function.\n",
    "    \"\"\"\n",
    "    num = np.cos(th)*n**2 - np.sqrt(n**2 - np.sin(th)**2)\n",
    "    den = np.cos(th)*n**2 + np.sqrt(n**2 - np.sin(th)**2)\n",
    "    return((num/den)**2)*mul + c\n",
    "\n",
    "def fit(f,x,y):\n",
    "    popt, pcov = curve_fit(f,x,y, bounds=[(1,0,-0.1),(1.7,2,0.1)],p0=[1,1,0])\n",
    "    return popt, pcov\n"
   ]
  },
  {
   "cell_type": "code",
   "execution_count": 19,
   "metadata": {},
   "outputs": [
    {
     "name": "stdout",
     "output_type": "stream",
     "text": [
      "parameter=[1.51099223e+00 9.98040664e-01 2.17014507e-04]\n",
      "std=[4.59216406e-04 1.80263606e-03 3.92798249e-05]\n"
     ]
    }
   ],
   "source": [
    "# convert theta in degree to radian\n",
    "x_data = []\n",
    "for a in df3[\"theta\"]:\n",
    "    x_data.append(math.radians(a))\n",
    "ru_y = df3[\"ru_nor_rf\"].to_numpy()\n",
    "rd_y = df3[\"rd_nor_rf\"].to_numpy()\n",
    "gu_y = df3[\"gu_nor_rf\"].to_numpy()\n",
    "gd_y = df3[\"gd_nor_rf\"].to_numpy()\n",
    "\n",
    "ru_fit = fit(fresnel_pl_equ, x_data, ru_y)\n",
    "rd_fit = fit(fresnel_pd_equ, x_data, rd_y)\n",
    "gu_fit = fit(fresnel_pl_equ, x_data, gu_y)\n",
    "gd_fit = fit(fresnel_pd_equ, x_data, gd_y)\n",
    "\n",
    "\n",
    "print(\"parameter={}\".format(ru_fit[0]))\n",
    "print(\"std={}\".format(np.sqrt(np.diag(ru_fit[1]))))"
   ]
  },
  {
   "cell_type": "code",
   "execution_count": 40,
   "metadata": {},
   "outputs": [
    {
     "name": "stdout",
     "output_type": "stream",
     "text": [
      "parameter=[ 1.5174263e+00  4.4461894e-01 -4.2414077e-04]\n",
      "std=[0.00926032 0.004543   0.00051934]\n"
     ]
    }
   ],
   "source": [
    "def fit(f,x,y):\n",
    "    popt, pcov = curve_fit(f,x,y, bounds=[(1,0.4,-0.1),(1.7,2,0.1)],p0=[1,0.4,0])\n",
    "    return popt, pcov\n",
    "rd_fit = fit(fresnel_pd_equ, x_data, rd_y)\n",
    "print(\"parameter={}\".format(rd_fit[0]))\n",
    "print(\"std={}\".format(np.sqrt(np.diag(rd_fit[1]))))"
   ]
  },
  {
   "cell_type": "markdown",
   "metadata": {},
   "source": [
    "5. summary of all fitted data."
   ]
  },
  {
   "cell_type": "code",
   "execution_count": 30,
   "metadata": {},
   "outputs": [
    {
     "name": "stdout",
     "output_type": "stream",
     "text": [
      "     ru_fit  ru_fit_std    rd_fit  rd_fit_std    gu_fit  gu_fit_std    gd_fit  \\\n",
      "0  1.510992    0.000459  1.517426    0.009260  1.512442    0.002200  1.510992   \n",
      "1  0.998041    0.001803  0.444619    0.004543  1.000164    0.008653  0.998041   \n",
      "2  0.000217    0.000039 -0.000424    0.000519  0.000768    0.000189  0.000217   \n",
      "\n",
      "   gd_fit_std  \n",
      "0    0.007380  \n",
      "1    0.009165  \n",
      "2    0.000957  \n"
     ]
    }
   ],
   "source": [
    "df5 = pd.DataFrame()\n",
    "df5[\"ru_fit\"] = ru_fit[0]\n",
    "df5[\"ru_fit_std\"] = np.sqrt(np.diag(ru_fit[1]))\n",
    "df5[\"rd_fit\"] = rd_fit[0]\n",
    "df5[\"rd_fit_std\"] = np.sqrt(np.diag(rd_fit[1]))\n",
    "df5[\"gu_fit\"] = gu_fit[0]\n",
    "df5[\"gu_fit_std\"] = np.sqrt(np.diag(gu_fit[1]))\n",
    "df5[\"gd_fit\"] = ru_fit[0]\n",
    "df5[\"gd_fit_std\"] = np.sqrt(np.diag(gd_fit[1]))\n",
    "#df5.to_csv(\"fitted_data.csv\")\n",
    "#print(df5)"
   ]
  },
  {
   "cell_type": "code",
   "execution_count": 20,
   "metadata": {},
   "outputs": [],
   "source": [
    "# functions for plotting\n",
    "def ru_theo(x):\n",
    "    # theoretical red light with polarized Up\n",
    "    return fresnel_pl_equ(x, ru_fit[0][0], ru_fit[0][1], ru_fit[0][2])\n",
    "\n",
    "def rd_theo(x):\n",
    "    # theoretical red light with polarized down \n",
    "    return fresnel_pd_equ(x, rd_fit[0][0], rd_fit[0][1], rd_fit[0][2])\n",
    "\n",
    "def gu_theo(x):\n",
    "    # theoretical green light with polarized Up\n",
    "    return fresnel_pl_equ(x, gu_fit[0][0], gu_fit[0][1], gu_fit[0][2])\n",
    "\n",
    "def gd_theo(x):\n",
    "    # theoretical green light with polarized down\n",
    "    return fresnel_pd_equ(x, gd_fit[0][0], gd_fit[0][1], gd_fit[0][2])\n"
   ]
  },
  {
   "cell_type": "markdown",
   "metadata": {},
   "source": [
    "6. plot fitted fresnel equation with data."
   ]
  },
  {
   "cell_type": "code",
   "execution_count": 21,
   "metadata": {},
   "outputs": [
    {
     "name": "stderr",
     "output_type": "stream",
     "text": [
      "C:\\Users\\alber\\AppData\\Local\\Temp/ipykernel_1880/1276422258.py:35: UserWarning: You have mixed positional and keyword arguments, some input may be discarded.\n",
      "  fig.legend([l1,l2], labels=[\"fit_line\",\"data_point\"],\n"
     ]
    },
    {
     "data": {
      "image/png": "[encoded data removed]",
      "text/plain": [
       "<Figure size 432x288 with 4 Axes>"
      ]
     },
     "metadata": {
      "needs_background": "light"
     },
     "output_type": "display_data"
    },
    {
     "data": {
      "text/plain": [
       "<Figure size 12000x6000 with 0 Axes>"
      ]
     },
     "metadata": {},
     "output_type": "display_data"
    }
   ],
   "source": [
    "# set x prediction in radian\n",
    "xp = np.linspace(20,70,1000)\n",
    "xp_radian = []\n",
    "for a in xp:\n",
    "    xp_radian.append(math.radians(a)) \n",
    "\n",
    "# set up plot with subplot\n",
    "fig, axs = plt.subplots(2,2)\n",
    "plt.figure(figsize=(10,5), dpi=1200)\n",
    "fig.suptitle(\"Reflectance VS Angle of Incidence\", **csfont)\n",
    "fig.text(0.5, 0.01, 'Incidence Angle($^\\circ$)', ha='center')\n",
    "fig.text(0.001, 0.5, 'Refletance', va='center', rotation='vertical')\n",
    "\n",
    "# plot data with fitted line\n",
    "l1 = axs[0,0].plot(xp, ru_theo(xp_radian), \"r\")\n",
    "l2 = axs[0,0].scatter(df3[\"theta\"], df3[\"ru_nor_rf\"])\n",
    "axs[0,0].set_title(\"Red_Up\")\n",
    "axs[0,1].plot(xp, rd_theo(xp_radian), \"r\")\n",
    "axs[0,1].scatter(df3[\"theta\"], df3[\"rd_nor_rf\"])\n",
    "axs[0,1].set_title(\"Red_Down\")\n",
    "axs[1,0].plot(xp, gu_theo(xp_radian), \"r\")\n",
    "axs[1,0].scatter(df3[\"theta\"], df3[\"gu_nor_rf\"])\n",
    "axs[1,0].set_title(\"Green_Up\")\n",
    "axs[1,1].plot(xp, gd_theo(xp_radian), \"r\")\n",
    "axs[1,1].scatter(df3[\"theta\"], df3[\"gd_nor_rf\"])\n",
    "axs[1,1].set_title(\"Green_Down\")\n",
    "\n",
    "axs[0,0].grid()\n",
    "axs[0,1].grid()\n",
    "axs[1,0].grid()\n",
    "axs[1,1].grid()\n",
    "fig.tight_layout()\n",
    "\n",
    "# add legend\n",
    "fig.legend([l1,l2], labels=[\"fit_line\",\"data_point\"],\n",
    "           loc=\"upper center\", borderaxespad=0.1,\n",
    "           bbox_to_anchor = (0.5, -0.05), fancybox=True,ncol=2)\n",
    "\n",
    "fig.savefig('ref_ang_fit.jpg', bbox_inches = 'tight', dpi=1000)"
   ]
  }
 ],
 "metadata": {
  "interpreter": {
   "hash": "28e645461d8a7ad3cdd7c6ba1e94991dadc517d90c273ff522d251f0ece4da68"
  },
  "kernelspec": {
   "display_name": "Python 3.8.8 64-bit ('base': conda)",
   "name": "python3"
  },
  "language_info": {
   "codemirror_mode": {
    "name": "ipython",
    "version": 3
   },
   "file_extension": ".py",
   "mimetype": "text/x-python",
   "name": "python",
   "nbconvert_exporter": "python",
   "pygments_lexer": "ipython3",
   "version": "3.8.8"
  },
  "orig_nbformat": 4
 },
 "nbformat": 4,
 "nbformat_minor": 2
}
