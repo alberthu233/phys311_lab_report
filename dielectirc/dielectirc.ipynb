{
 "cells": [
  {
   "cell_type": "markdown",
   "metadata": {},
   "source": [
    "# Phys 311 dielectric interface lab report"
   ]
  },
  {
   "cell_type": "markdown",
   "metadata": {},
   "source": [
    "Here is the python package I used for this lab report:"
   ]
  },
  {
   "cell_type": "code",
   "execution_count": 37,
   "metadata": {},
   "outputs": [],
   "source": [
    "import pandas as pd\n",
    "import numpy as np\n",
    "import matplotlib.pyplot as plt"
   ]
  },
  {
   "cell_type": "markdown",
   "metadata": {},
   "source": [
    "1. Calucalte the angle of incidence $\\theta$ = 180 $^\\circ$ - $\\beta$ /2"
   ]
  },
  {
   "cell_type": "code",
   "execution_count": 38,
   "metadata": {},
   "outputs": [
    {
     "name": "stdout",
     "output_type": "stream",
     "text": [
      "0     20.0\n",
      "1     25.0\n",
      "2     30.0\n",
      "3     35.0\n",
      "4     40.0\n",
      "5     45.0\n",
      "6     50.0\n",
      "7     55.0\n",
      "8     60.0\n",
      "9     65.0\n",
      "10    70.0\n",
      "11    75.0\n",
      "12    80.0\n",
      "13    90.0\n",
      "Name: theta, dtype: float64\n"
     ]
    }
   ],
   "source": [
    "df = pd.read_csv('Dielectirc_interface.csv')\n",
    "df[\"theta\"] = 180 - df[\"deg\"] / 2\n",
    "print(df[\"theta\"])\n"
   ]
  },
  {
   "cell_type": "markdown",
   "metadata": {},
   "source": [
    "2. Divide each measurement by its reference measurement. Answers are unitless."
   ]
  },
  {
   "cell_type": "code",
   "execution_count": 43,
   "metadata": {},
   "outputs": [
    {
     "name": "stdout",
     "output_type": "stream",
     "text": [
      "    theta  ru_rf_ratio  rd_rf_ratio  gu_rf_ratio  gd_rf_ratio\n",
      "0    20.0     0.005687     0.008347     0.006543     0.009524\n",
      "1    25.0     0.005052     0.009189     0.005875     0.010476\n",
      "2    30.0     0.004301     0.010161     0.005125     0.011667\n",
      "3    35.0     0.003438     0.011657     0.004000     0.013333\n",
      "4    40.0     0.002495     0.013686     0.003000     0.015476\n",
      "5    45.0     0.001492     0.016414     0.001772     0.018675\n",
      "6    50.0     0.000633     0.019655     0.000886     0.021687\n",
      "7    55.0     0.000064     0.024056     0.000127     0.027831\n",
      "8    60.0     0.000297     0.031111     0.000380     0.035610\n",
      "9    65.0     0.002076     0.040123     0.002532     0.045732\n",
      "10   70.0     0.006872     0.052156     0.007949     0.059634\n",
      "11   75.0     0.017304     0.069855     0.020128     0.079024\n",
      "12   80.0     0.038806     0.093546     0.044744     0.107407\n",
      "13   90.0     0.164083     0.417787     0.150542     0.156430\n"
     ]
    }
   ],
   "source": [
    "for col in df:\n",
    "    if col[2] == \"i\":\n",
    "        df[\"{}{}\".format(col[0:2],\"_rf_ratio\")] = df[\"{}{}\".format(col[0:2],\"o\")]/df[col]\n",
    "df1 = df.iloc[:,9:] \n",
    "print(df1)"
   ]
  },
  {
   "cell_type": "markdown",
   "metadata": {},
   "source": [
    "3. Divide the each point with reference 90 $^\\circ$ measurement. normalized reflectance at each angle to its value at 90 $^\\circ$"
   ]
  },
  {
   "cell_type": "code",
   "execution_count": 66,
   "metadata": {},
   "outputs": [
    {
     "name": "stdout",
     "output_type": "stream",
     "text": [
      "    ru_nor_rf  rd_nor_rf  gu_nor_rf  gd_nor_rf\n",
      "0    0.034662   0.019979   0.043464   0.060882\n",
      "1    0.030789   0.021994   0.039026   0.066970\n",
      "2    0.026210   0.024320   0.034044   0.074581\n",
      "3    0.020950   0.027901   0.026571   0.085235\n",
      "4    0.015204   0.032759   0.019928   0.098934\n",
      "5    0.009090   0.039288   0.011772   0.119381\n",
      "6    0.003857   0.047046   0.005886   0.138636\n",
      "7    0.000387   0.057580   0.000841   0.177916\n",
      "8    0.001808   0.074466   0.002523   0.227640\n",
      "9    0.012654   0.096038   0.016817   0.292346\n",
      "10   0.041883   0.124839   0.052801   0.381220\n",
      "11   0.105456   0.167202   0.133705   0.505174\n",
      "12   0.236502   0.223909   0.297217   0.686617\n",
      "13   1.000000   1.000000   1.000000   1.000000\n"
     ]
    }
   ],
   "source": [
    "for col in df1:\n",
    "    if col[-1] == \"o\":\n",
    "        new_col = \"{}{}\".format(col[0:2],\"_nor_rf\")\n",
    "        df1[new_col] = df1[col].divide(df1.iloc[-1][col])\n",
    "df2 = df1.iloc[:,5:]\n",
    "print(df2)\n",
    "        "
   ]
  },
  {
   "cell_type": "markdown",
   "metadata": {},
   "source": [
    "4. Ploting of reflectance against the angle."
   ]
  },
  {
   "cell_type": "code",
   "execution_count": null,
   "metadata": {},
   "outputs": [],
   "source": [
    "fig, ax = plt.subplots()\n"
   ]
  }
 ],
 "metadata": {
  "interpreter": {
   "hash": "28e645461d8a7ad3cdd7c6ba1e94991dadc517d90c273ff522d251f0ece4da68"
  },
  "kernelspec": {
   "display_name": "Python 3.8.8 64-bit ('base': conda)",
   "name": "python3"
  },
  "language_info": {
   "codemirror_mode": {
    "name": "ipython",
    "version": 3
   },
   "file_extension": ".py",
   "mimetype": "text/x-python",
   "name": "python",
   "nbconvert_exporter": "python",
   "pygments_lexer": "ipython3",
   "version": "3.8.8"
  },
  "orig_nbformat": 4
 },
 "nbformat": 4,
 "nbformat_minor": 2
}
