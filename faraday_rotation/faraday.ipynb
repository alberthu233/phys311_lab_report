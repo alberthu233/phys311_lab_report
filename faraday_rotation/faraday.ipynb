{
 "cells": [
  {
   "cell_type": "markdown",
   "metadata": {},
   "source": [
    "# Phys331 Lab Faraday Effect and Dispersion in Liquids"
   ]
  },
  {
   "cell_type": "markdown",
   "metadata": {},
   "source": [
    "Here is the python package I used."
   ]
  },
  {
   "cell_type": "code",
   "execution_count": 432,
   "metadata": {},
   "outputs": [],
   "source": [
    "import pandas as pd\n",
    "import numpy as np\n",
    "import matplotlib.pyplot as plt\n",
    "import math\n",
    "from scipy.optimize import curve_fit\n",
    "from scipy.misc import derivative\n",
    "%matplotlib inline\n",
    "import uncertainties as u\n",
    "from uncertainties.umath import *"
   ]
  },
  {
   "cell_type": "markdown",
   "metadata": {},
   "source": [
    "1. Data preprocessing"
   ]
  },
  {
   "cell_type": "code",
   "execution_count": 433,
   "metadata": {},
   "outputs": [
    {
     "name": "stdout",
     "output_type": "stream",
     "text": [
      "   Current  sig_current  Angle_of_extinction  sig_degree\n",
      "0    -1000            1               1.6610      0.0014\n",
      "1     -800            1               1.6464      0.0014\n",
      "2     -601            1               1.6304      0.0014\n",
      "3     -399            1               1.6086      0.0014\n",
      "4     -200            1               1.5912      0.0014\n",
      "   Current  sig_current  Angle_1  Angle_2  Avg_Angle_of_extinction  sig_degree\n",
      "0   -999.0          1.0    1.705    1.694                    1.700       0.005\n",
      "1   -799.0          1.0    1.687    1.646                    1.667       0.020\n",
      "2   -601.0          1.0    1.652    1.635                    1.644       0.009\n",
      "3   -399.0          1.0    1.609    1.633                    1.621       0.012\n",
      "4   -200.0          1.0    1.575    1.606                    1.590       0.015\n",
      "                       Color Element  Wavelength       angle   ang_rad  \\\n",
      "0                   deep red      Cd      643.85  138.166667  2.411463   \n",
      "1  bright yellow doublet (b)      Hg      579.07  137.500000  2.399828   \n",
      "2  bright yellow doublet (a)      Hg      576.96  137.500000  2.399828   \n",
      "3               bright green      Hg      546.08  137.000000  2.391101   \n",
      "4                  turquoise      Cd      508.58  136.333333  2.379466   \n",
      "\n",
      "   sig_angle  sig_angle_rad  \n",
      "0   0.333333       0.005818  \n",
      "1   0.333333       0.005818  \n",
      "2   0.333333       0.005818  \n",
      "3   0.333333       0.005818  \n",
      "4   0.333333       0.005818  \n"
     ]
    }
   ],
   "source": [
    "df = pd.read_csv(\"fara_green.csv\")\n",
    "print(df.head())\n",
    "df1 = pd.read_csv(\"fara_blue.csv\")\n",
    "print(df1.head())\n",
    "df2 = pd.read_csv(\"dispersion.csv\")\n",
    "print(df2.head())"
   ]
  },
  {
   "cell_type": "markdown",
   "metadata": {},
   "source": [
    "2. first approximation of Verdet constant"
   ]
  },
  {
   "cell_type": "code",
   "execution_count": 434,
   "metadata": {},
   "outputs": [],
   "source": [
    "\"\"\"\n",
    "Define fitting function\n",
    "\"\"\"\n",
    "def vc(B_field,Verdet_constant,c):\n",
    "    Angle_of_rotation = Verdet_constant*B_field*0.5+c\n",
    "    return Angle_of_rotation\n",
    "\n",
    "def vc_fit(f, x, y):\n",
    "    popt, pcov = curve_fit(f,x,y, bounds=[(-1000,-100),(1000,100)],p0=[3,0])\n",
    "    return popt, pcov"
   ]
  },
  {
   "cell_type": "markdown",
   "metadata": {},
   "source": [
    "convert current to magnetic field stregnth"
   ]
  },
  {
   "cell_type": "code",
   "execution_count": 435,
   "metadata": {},
   "outputs": [],
   "source": [
    "def app_CtoB(current):\n",
    "    \"\"\"\n",
    "    approximation of B field with B = mu_0 * N * I\n",
    "    \"\"\"\n",
    "    N = 7349/0.5\n",
    "    mu = 4*(math.pi)*1e-7 # T/amp/m\n",
    "    return mu*N*current\n",
    "\n",
    "x_green = df[\"Current\"].div(1000).apply(app_CtoB) # Bfield applied to green polarization\n",
    "y_green = df[\"Angle_of_extinction\"]\n",
    "x_blue = df1[\"Current\"].div(1000).apply(app_CtoB) # Bfield applied to blue polarization\n",
    "y_blue = df1[\"Avg_Angle_of_extinction\"]"
   ]
  },
  {
   "cell_type": "code",
   "execution_count": 436,
   "metadata": {},
   "outputs": [
    {
     "name": "stdout",
     "output_type": "stream",
     "text": [
      "parameter=[-9.94882568  1.57210983]\n",
      "std=[0.20698325 0.0012091 ]\n",
      "parameter=[-12.99173676   1.57350908]\n",
      "std=[0.19432953 0.00113477]\n"
     ]
    }
   ],
   "source": [
    "green_fit = vc_fit(vc, x_green, y_green)\n",
    "blue_fit = vc_fit(vc, x_blue, y_blue)\n",
    "print(\"parameter={}\".format(green_fit[0]))\n",
    "print(\"std={}\".format(np.sqrt(np.diag(green_fit[1]))))\n",
    "print(\"parameter={}\".format(blue_fit[0]))\n",
    "print(\"std={}\".format(np.sqrt(np.diag(blue_fit[1]))))"
   ]
  },
  {
   "cell_type": "code",
   "execution_count": 437,
   "metadata": {},
   "outputs": [],
   "source": [
    "df4 = pd.DataFrame()\n",
    "df4[\"green_fit\"] = green_fit[0]\n",
    "df4[\"green_fit_std\"] = np.sqrt(np.diag(green_fit[1]))\n",
    "df4[\"blue_fit\"] = green_fit[0]\n",
    "df4[\"blue_fit_std\"] = np.sqrt(np.diag(green_fit[1]))"
   ]
  },
  {
   "cell_type": "markdown",
   "metadata": {},
   "source": [
    "2. plot B vs Angle of extinction with fitting curve"
   ]
  },
  {
   "cell_type": "code",
   "execution_count": 438,
   "metadata": {},
   "outputs": [
    {
     "data": {
      "text/plain": [
       "<Figure size 432x288 with 0 Axes>"
      ]
     },
     "metadata": {},
     "output_type": "display_data"
    },
    {
     "data": {
      "image/png": "[encoded data removed]",
      "text/plain": [
       "<Figure size 432x288 with 2 Axes>"
      ]
     },
     "metadata": {
      "needs_background": "light"
     },
     "output_type": "display_data"
    },
    {
     "data": {
      "text/plain": [
       "<Figure size 6000x12000 with 0 Axes>"
      ]
     },
     "metadata": {},
     "output_type": "display_data"
    }
   ],
   "source": [
    "xp = np.linspace(-0.022,0.022,1000)\n",
    "plt.clf()\n",
    "fig, axs = plt.subplots(1,2)\n",
    "plt.figure(figsize=(5,10), dpi=1200)\n",
    "fig.suptitle(\"Angle of Extinction VS Calculated B field\")\n",
    "fig.text(0.5, 0.01, 'Magnetic Field(Tm/A)', ha='center')\n",
    "fig.text(0.001, 0.5, 'Angle of Extinction(rad)', va='center', rotation='vertical')\n",
    "axs[0].scatter(x_green, df[\"Angle_of_extinction\"])\n",
    "axs[0].plot(xp, vc(xp, green_fit[0][0], green_fit[0][1]),\"r\")\n",
    "axs[1].scatter(x_blue, df1[\"Avg_Angle_of_extinction\"])\n",
    "axs[1].plot(xp, vc(xp, blue_fit[0][0], blue_fit[0][1]),\"r\")\n",
    "axs[0].grid()\n",
    "axs[1].grid()\n",
    "fig.savefig(\"calculated_b.png\", dpi=500)"
   ]
  },
  {
   "cell_type": "markdown",
   "metadata": {},
   "source": [
    "3. improved B calculation with verdet constant"
   ]
  },
  {
   "cell_type": "code",
   "execution_count": 439,
   "metadata": {},
   "outputs": [],
   "source": [
    "\"\"\"\n",
    "Define fitting function\n",
    "\"\"\"\n",
    "def new_vc(currents,slope,c):\n",
    "    Angle_of_rotation = slope*currents+c\n",
    "    return Angle_of_rotation\n",
    "\n",
    "def linear_fit(f, x, y):\n",
    "    popt, pcov = curve_fit(f,x,y, bounds=[(-1000,-100),(1000,100)],p0=[0,0])\n",
    "    return popt, pcov"
   ]
  },
  {
   "cell_type": "code",
   "execution_count": 440,
   "metadata": {},
   "outputs": [
    {
     "name": "stdout",
     "output_type": "stream",
     "text": [
      "parameter=[-0.09187766  1.57210983]\n",
      "std=[0.0019115 0.0012091]\n",
      "parameter=[-0.11997902  1.57350908]\n",
      "std=[0.00179464 0.00113477]\n"
     ]
    }
   ],
   "source": [
    "l_green_fit = linear_fit(new_vc, df[\"Current\"].div(1000), df[\"Angle_of_extinction\"])\n",
    "l_blue_fit = linear_fit(new_vc, df1[\"Current\"].div(1000), df1[\"Avg_Angle_of_extinction\"])\n",
    "print(\"parameter={}\".format(l_green_fit[0]))\n",
    "print(\"std={}\".format(np.sqrt(np.diag(l_green_fit[1]))))\n",
    "print(\"parameter={}\".format(l_blue_fit[0]))\n",
    "print(\"std={}\".format(np.sqrt(np.diag(l_blue_fit[1]))))"
   ]
  },
  {
   "cell_type": "code",
   "execution_count": 441,
   "metadata": {},
   "outputs": [
    {
     "name": "stdout",
     "output_type": "stream",
     "text": [
      "improved verdet constant at 546nm: -10.338433821700784 error: 0.13605289088818467\n",
      "improved verdet constant at 480nm: -13.500509012646257 error: 0.12768907412001415\n"
     ]
    }
   ],
   "source": [
    "v_green = l_green_fit[0][0]/8.887e-3\n",
    "print(\"improved verdet constant at 546nm:\", v_green, \"error:\",np.sqrt(np.diag(l_green_fit[1]))[1]/8.887e-3)\n",
    "v_blue = l_blue_fit[0][0]/8.887e-3\n",
    "print(\"improved verdet constant at 480nm:\", v_blue, \"error:\",np.sqrt(np.diag(l_blue_fit[1]))[1]/8.887e-3)\n"
   ]
  },
  {
   "cell_type": "code",
   "execution_count": 442,
   "metadata": {},
   "outputs": [
    {
     "data": {
      "text/plain": [
       "<Figure size 432x288 with 0 Axes>"
      ]
     },
     "metadata": {},
     "output_type": "display_data"
    },
    {
     "data": {
      "image/png": "[encoded data removed]",
      "text/plain": [
       "<Figure size 432x288 with 1 Axes>"
      ]
     },
     "metadata": {
      "needs_background": "light"
     },
     "output_type": "display_data"
    }
   ],
   "source": [
    "xp = np.linspace(-1,1,1000)\n",
    "plt.clf()\n",
    "fig = plt.figure()\n",
    "ax1 = fig.add_subplot(111)\n",
    "fig.suptitle(\"Angle of Extinction VS Coil Current\")\n",
    "fig.text(0.5, 0.01, 'Current(A)', ha='center')\n",
    "fig.text(0.001, 0.5, 'Angle of Extinction(rad)', va='center', rotation='vertical')\n",
    "#plot current vs angle with linear fit line\n",
    "ax1.scatter(df[\"Current\"].div(1000), df[\"Angle_of_extinction\"], color=\"green\")\n",
    "ax1.plot(xp, new_vc(xp, l_green_fit[0][0], l_green_fit[0][1]), color=\"green\", label=\"green_linear_fit\")\n",
    "ax1.errorbar(df[\"Current\"].div(1000), df[\"Angle_of_extinction\"],\n",
    "             xerr=df[\"sig_current\"].div(1000), yerr=df[\"sig_degree\"], color=\"green\", fmt=\"o\", label=\"green_data\")\n",
    "\n",
    "ax1.scatter(df1[\"Current\"].div(1000), df1[\"Avg_Angle_of_extinction\"])\n",
    "ax1.plot(xp, new_vc(xp, l_blue_fit[0][0], l_blue_fit[0][1]), label=\"blue_linear_fit\")\n",
    "ax1.errorbar(df1[\"Current\"].div(1000), df1[\"Avg_Angle_of_extinction\"],\n",
    "             xerr=df1[\"sig_current\"].div(1000), yerr=df1[\"sig_degree\"],\n",
    "             color=\"blue\", fmt=\"o\", label=\"blue_data\")\n",
    "\n",
    "ax1.grid()\n",
    "Leg = ax1.legend()\n",
    "\n",
    "fig.savefig(\"angle_current.png\", dpi=500)"
   ]
  },
  {
   "cell_type": "markdown",
   "metadata": {},
   "source": [
    "4. dispersion calculation"
   ]
  },
  {
   "cell_type": "code",
   "execution_count": 443,
   "metadata": {},
   "outputs": [
    {
     "name": "stdout",
     "output_type": "stream",
     "text": [
      "0.6304500605822709\n",
      "0.49999999999999994\n"
     ]
    }
   ],
   "source": [
    "# snell's equation\n",
    "def sn(min_dev):\n",
    "    a = math.pi/3\n",
    "    up = math.sin((math.pi-min_dev+a)/2)\n",
    "    down = math.sin((a)/2)\n",
    "    index_of_refraction = (up/down)\n",
    "    return index_of_refraction\n",
    "# 1/lambda^2\n",
    "def wave(lam):\n",
    "    return (1/(lam**2))\n",
    "\n",
    "a = 60\n",
    "min_dev = 138.16667\n",
    "up = math.sin(math.radians(min_dev-a)/2)\n",
    "down = math.sin(math.radians(a)/2)\n",
    "print(up)\n",
    "print(down)"
   ]
  },
  {
   "cell_type": "code",
   "execution_count": 444,
   "metadata": {},
   "outputs": [
    {
     "data": {
      "text/html": [
       "<div>\n",
       "<style scoped>\n",
       "    .dataframe tbody tr th:only-of-type {\n",
       "        vertical-align: middle;\n",
       "    }\n",
       "\n",
       "    .dataframe tbody tr th {\n",
       "        vertical-align: top;\n",
       "    }\n",
       "\n",
       "    .dataframe thead th {\n",
       "        text-align: right;\n",
       "    }\n",
       "</style>\n",
       "<table border=\"1\" class=\"dataframe\">\n",
       "  <thead>\n",
       "    <tr style=\"text-align: right;\">\n",
       "      <th></th>\n",
       "      <th>Color</th>\n",
       "      <th>Element</th>\n",
       "      <th>Wavelength</th>\n",
       "      <th>angle</th>\n",
       "      <th>ang_rad</th>\n",
       "      <th>sig_angle</th>\n",
       "      <th>sig_angle_rad</th>\n",
       "    </tr>\n",
       "  </thead>\n",
       "  <tbody>\n",
       "    <tr>\n",
       "      <th>0</th>\n",
       "      <td>deep red</td>\n",
       "      <td>Cd</td>\n",
       "      <td>643.85</td>\n",
       "      <td>138.166667</td>\n",
       "      <td>2.411463</td>\n",
       "      <td>0.333333</td>\n",
       "      <td>0.005818</td>\n",
       "    </tr>\n",
       "    <tr>\n",
       "      <th>1</th>\n",
       "      <td>bright yellow doublet (b)</td>\n",
       "      <td>Hg</td>\n",
       "      <td>579.07</td>\n",
       "      <td>137.500000</td>\n",
       "      <td>2.399828</td>\n",
       "      <td>0.333333</td>\n",
       "      <td>0.005818</td>\n",
       "    </tr>\n",
       "    <tr>\n",
       "      <th>2</th>\n",
       "      <td>bright yellow doublet (a)</td>\n",
       "      <td>Hg</td>\n",
       "      <td>576.96</td>\n",
       "      <td>137.500000</td>\n",
       "      <td>2.399828</td>\n",
       "      <td>0.333333</td>\n",
       "      <td>0.005818</td>\n",
       "    </tr>\n",
       "    <tr>\n",
       "      <th>3</th>\n",
       "      <td>bright green</td>\n",
       "      <td>Hg</td>\n",
       "      <td>546.08</td>\n",
       "      <td>137.000000</td>\n",
       "      <td>2.391101</td>\n",
       "      <td>0.333333</td>\n",
       "      <td>0.005818</td>\n",
       "    </tr>\n",
       "    <tr>\n",
       "      <th>4</th>\n",
       "      <td>turquoise</td>\n",
       "      <td>Cd</td>\n",
       "      <td>508.58</td>\n",
       "      <td>136.333333</td>\n",
       "      <td>2.379466</td>\n",
       "      <td>0.333333</td>\n",
       "      <td>0.005818</td>\n",
       "    </tr>\n",
       "  </tbody>\n",
       "</table>\n",
       "</div>"
      ],
      "text/plain": [
       "                       Color Element  Wavelength       angle   ang_rad  \\\n",
       "0                   deep red      Cd      643.85  138.166667  2.411463   \n",
       "1  bright yellow doublet (b)      Hg      579.07  137.500000  2.399828   \n",
       "2  bright yellow doublet (a)      Hg      576.96  137.500000  2.399828   \n",
       "3               bright green      Hg      546.08  137.000000  2.391101   \n",
       "4                  turquoise      Cd      508.58  136.333333  2.379466   \n",
       "\n",
       "   sig_angle  sig_angle_rad  \n",
       "0   0.333333       0.005818  \n",
       "1   0.333333       0.005818  \n",
       "2   0.333333       0.005818  \n",
       "3   0.333333       0.005818  \n",
       "4   0.333333       0.005818  "
      ]
     },
     "execution_count": 444,
     "metadata": {},
     "output_type": "execute_result"
    }
   ],
   "source": [
    "df5 = pd.read_csv(\"dispersion.csv\")\n",
    "df5.head()"
   ]
  },
  {
   "cell_type": "code",
   "execution_count": 445,
   "metadata": {},
   "outputs": [
    {
     "data": {
      "text/html": [
       "<div>\n",
       "<style scoped>\n",
       "    .dataframe tbody tr th:only-of-type {\n",
       "        vertical-align: middle;\n",
       "    }\n",
       "\n",
       "    .dataframe tbody tr th {\n",
       "        vertical-align: top;\n",
       "    }\n",
       "\n",
       "    .dataframe thead th {\n",
       "        text-align: right;\n",
       "    }\n",
       "</style>\n",
       "<table border=\"1\" class=\"dataframe\">\n",
       "  <thead>\n",
       "    <tr style=\"text-align: right;\">\n",
       "      <th></th>\n",
       "      <th>Color</th>\n",
       "      <th>Element</th>\n",
       "      <th>Wavelength</th>\n",
       "      <th>angle</th>\n",
       "      <th>ang_rad</th>\n",
       "      <th>sig_angle</th>\n",
       "      <th>sig_angle_rad</th>\n",
       "      <th>n</th>\n",
       "      <th>wave_sq</th>\n",
       "    </tr>\n",
       "  </thead>\n",
       "  <tbody>\n",
       "    <tr>\n",
       "      <th>0</th>\n",
       "      <td>deep red</td>\n",
       "      <td>Cd</td>\n",
       "      <td>643.85</td>\n",
       "      <td>138.166667</td>\n",
       "      <td>2.411463</td>\n",
       "      <td>0.333333</td>\n",
       "      <td>0.005818</td>\n",
       "      <td>1.552460</td>\n",
       "      <td>0.000002</td>\n",
       "    </tr>\n",
       "    <tr>\n",
       "      <th>1</th>\n",
       "      <td>bright yellow doublet (b)</td>\n",
       "      <td>Hg</td>\n",
       "      <td>579.07</td>\n",
       "      <td>137.500000</td>\n",
       "      <td>2.399828</td>\n",
       "      <td>0.333333</td>\n",
       "      <td>0.005818</td>\n",
       "      <td>1.559769</td>\n",
       "      <td>0.000003</td>\n",
       "    </tr>\n",
       "    <tr>\n",
       "      <th>2</th>\n",
       "      <td>bright yellow doublet (a)</td>\n",
       "      <td>Hg</td>\n",
       "      <td>576.96</td>\n",
       "      <td>137.500000</td>\n",
       "      <td>2.399828</td>\n",
       "      <td>0.333333</td>\n",
       "      <td>0.005818</td>\n",
       "      <td>1.559769</td>\n",
       "      <td>0.000003</td>\n",
       "    </tr>\n",
       "    <tr>\n",
       "      <th>3</th>\n",
       "      <td>bright green</td>\n",
       "      <td>Hg</td>\n",
       "      <td>546.08</td>\n",
       "      <td>137.000000</td>\n",
       "      <td>2.391101</td>\n",
       "      <td>0.333333</td>\n",
       "      <td>0.005818</td>\n",
       "      <td>1.565216</td>\n",
       "      <td>0.000003</td>\n",
       "    </tr>\n",
       "    <tr>\n",
       "      <th>4</th>\n",
       "      <td>turquoise</td>\n",
       "      <td>Cd</td>\n",
       "      <td>508.58</td>\n",
       "      <td>136.333333</td>\n",
       "      <td>2.379466</td>\n",
       "      <td>0.333333</td>\n",
       "      <td>0.005818</td>\n",
       "      <td>1.572433</td>\n",
       "      <td>0.000004</td>\n",
       "    </tr>\n",
       "  </tbody>\n",
       "</table>\n",
       "</div>"
      ],
      "text/plain": [
       "                       Color Element  Wavelength       angle   ang_rad  \\\n",
       "0                   deep red      Cd      643.85  138.166667  2.411463   \n",
       "1  bright yellow doublet (b)      Hg      579.07  137.500000  2.399828   \n",
       "2  bright yellow doublet (a)      Hg      576.96  137.500000  2.399828   \n",
       "3               bright green      Hg      546.08  137.000000  2.391101   \n",
       "4                  turquoise      Cd      508.58  136.333333  2.379466   \n",
       "\n",
       "   sig_angle  sig_angle_rad         n   wave_sq  \n",
       "0   0.333333       0.005818  1.552460  0.000002  \n",
       "1   0.333333       0.005818  1.559769  0.000003  \n",
       "2   0.333333       0.005818  1.559769  0.000003  \n",
       "3   0.333333       0.005818  1.565216  0.000003  \n",
       "4   0.333333       0.005818  1.572433  0.000004  "
      ]
     },
     "execution_count": 445,
     "metadata": {},
     "output_type": "execute_result"
    }
   ],
   "source": [
    "df5[\"n\"] = df5[\"ang_rad\"].apply(sn)\n",
    "df5[\"wave_sq\"] = df5[\"Wavelength\"].apply(wave)\n",
    "df5.head()"
   ]
  },
  {
   "cell_type": "markdown",
   "metadata": {},
   "source": [
    "uncertainties calculation"
   ]
  },
  {
   "cell_type": "code",
   "execution_count": 446,
   "metadata": {},
   "outputs": [],
   "source": [
    "df5[\"sig_n\"] = df5[\"ang_rad\"].apply(math.cos)*df5[\"sig_angle_rad\"]"
   ]
  },
  {
   "cell_type": "code",
   "execution_count": 447,
   "metadata": {},
   "outputs": [
    {
     "name": "stdout",
     "output_type": "stream",
     "text": [
      "parameter=[1.53450548e+00 3.42413833e+03 1.67814438e+09]\n",
      "std=[1.41084570e-03 6.99870283e+02 8.19251404e+07]\n"
     ]
    }
   ],
   "source": [
    "# wavelegnth linear fit\n",
    "def dispersion(x, a, b, c):\n",
    "    t1 = a\n",
    "    t2 = b/(x**2)\n",
    "    t3 = c/(x**4)\n",
    "    return t1 + t2 + t3\n",
    "\n",
    "def fit(f,x,y):\n",
    "    popt, pcov = curve_fit(f, x, y, bounds=[(-1,-3e5,-3e15),(2,3e5,3e15)],p0=[0,-2000,-50000])\n",
    "    return popt, pcov\n",
    "\n",
    "dispersion_fit = fit(dispersion, df5[\"Wavelength\"], df5[\"n\"])\n",
    "print(\"parameter={}\".format(dispersion_fit[0]))\n",
    "print(\"std={}\".format(np.sqrt(np.diag(dispersion_fit[1]))))"
   ]
  },
  {
   "cell_type": "code",
   "execution_count": 448,
   "metadata": {},
   "outputs": [
    {
     "data": {
      "text/plain": [
       "<Figure size 432x288 with 0 Axes>"
      ]
     },
     "metadata": {},
     "output_type": "display_data"
    },
    {
     "data": {
      "image/png": "[encoded data removed]",
      "text/plain": [
       "<Figure size 432x288 with 1 Axes>"
      ]
     },
     "metadata": {
      "needs_background": "light"
     },
     "output_type": "display_data"
    }
   ],
   "source": [
    "xp = np.linspace(400,650,1000)\n",
    "\n",
    "plt.clf()\n",
    "fig = plt.figure()\n",
    "ax1 = fig.add_subplot(111)\n",
    "fig.suptitle(\"Refraction Index VS Wavelength\")\n",
    "fig.text(0.5, 0.01, 'Wavelength(nm)', ha='center')\n",
    "fig.text(0.001, 0.5, 'Index of Refraction', va='center', rotation='vertical')\n",
    "ax1.plot(xp, dispersion(xp, *dispersion_fit[0]), color=\"red\", label=\"Poly_fit\")\n",
    "ax1.scatter(df5[\"Wavelength\"],df5[\"n\"])\n",
    "ax1.errorbar(df5[\"Wavelength\"],df5[\"n\"], fmt=\"o\",yerr=df5[\"sig_n\"], label=\"Calculated_n\")\n",
    "ax1.grid()\n",
    "ax1.legend()\n",
    "\n",
    "fig.savefig(\"n_lambda.png\", dpi=500, bbox_inches='tight')"
   ]
  },
  {
   "cell_type": "markdown",
   "metadata": {},
   "source": [
    "6. calculate magneto-optical constant"
   ]
  },
  {
   "cell_type": "code",
   "execution_count": 449,
   "metadata": {},
   "outputs": [
    {
     "name": "stdout",
     "output_type": "stream",
     "text": [
      "-10.338433821700784 -13.500509012646257\n",
      "0.3543750182132732 0.2918705857831535\n"
     ]
    }
   ],
   "source": [
    "def fit_disp(x):\n",
    "    return dispersion(x,*dispersion_fit[0])\n",
    "\n",
    "c = 1.775820e11/(2*299792458)\n",
    "\n",
    "print(v_green,v_blue)\n",
    "\n",
    "gama_green = v_green/(derivative(fit_disp, 546, 1e-6)*546)/c\n",
    "gama_blue = v_blue/(derivative(fit_disp, 480, 1e-6)*480)/c\n",
    "print(gama_green,gama_blue)"
   ]
  }
 ],
 "metadata": {
  "interpreter": {
   "hash": "f63929e3db36fe13aee1081860966e065fd27c1f14440ef685fe33e45209081c"
  },
  "kernelspec": {
   "display_name": "Python 3.8.12 64-bit ('tf-gpu': conda)",
   "name": "python3"
  },
  "language_info": {
   "codemirror_mode": {
    "name": "ipython",
    "version": 3
   },
   "file_extension": ".py",
   "mimetype": "text/x-python",
   "name": "python",
   "nbconvert_exporter": "python",
   "pygments_lexer": "ipython3",
   "version": "3.8.12"
  },
  "orig_nbformat": 4
 },
 "nbformat": 4,
 "nbformat_minor": 2
}
